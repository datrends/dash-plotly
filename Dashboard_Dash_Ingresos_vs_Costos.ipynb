{
  "nbformat": 4,
  "nbformat_minor": 0,
  "metadata": {
    "colab": {
      "provenance": [],
      "authorship_tag": "ABX9TyN9XmEjOk0fHOMp3FxKuJia",
      "include_colab_link": true
    },
    "kernelspec": {
      "name": "python3",
      "display_name": "Python 3"
    },
    "language_info": {
      "name": "python"
    }
  },
  "cells": [
    {
      "cell_type": "markdown",
      "metadata": {
        "id": "view-in-github",
        "colab_type": "text"
      },
      "source": [
        "<a href=\"https://colab.research.google.com/github/datrends/dash-plotly/blob/main/Dashboard_Dash_Ingresos_vs_Costos.ipynb\" target=\"_parent\"><img src=\"https://colab.research.google.com/assets/colab-badge.svg\" alt=\"Open In Colab\"/></a>"
      ]
    },
    {
      "cell_type": "code",
      "execution_count": 1,
      "metadata": {
        "colab": {
          "base_uri": "https://localhost:8080/"
        },
        "id": "xR-6FjaUHtmm",
        "outputId": "1337353b-0dc5-412f-faca-8e5878b145ce"
      },
      "outputs": [
        {
          "output_type": "stream",
          "name": "stdout",
          "text": [
            "Requirement already satisfied: plotly in /usr/local/lib/python3.10/dist-packages (5.18.0)\n",
            "Requirement already satisfied: tenacity>=6.2.0 in /usr/local/lib/python3.10/dist-packages (from plotly) (8.2.3)\n",
            "Requirement already satisfied: packaging in /usr/local/lib/python3.10/dist-packages (from plotly) (23.2)\n",
            "Requirement already satisfied: jupyter-dash in /usr/local/lib/python3.10/dist-packages (0.4.2)\n",
            "Requirement already satisfied: dash in /usr/local/lib/python3.10/dist-packages (from jupyter-dash) (2.14.1)\n",
            "Requirement already satisfied: requests in /usr/local/lib/python3.10/dist-packages (from jupyter-dash) (2.31.0)\n",
            "Requirement already satisfied: flask in /usr/local/lib/python3.10/dist-packages (from jupyter-dash) (2.2.5)\n",
            "Requirement already satisfied: retrying in /usr/local/lib/python3.10/dist-packages (from jupyter-dash) (1.3.4)\n",
            "Requirement already satisfied: ipython in /usr/local/lib/python3.10/dist-packages (from jupyter-dash) (7.34.0)\n",
            "Requirement already satisfied: ipykernel in /usr/local/lib/python3.10/dist-packages (from jupyter-dash) (5.5.6)\n",
            "Requirement already satisfied: ansi2html in /usr/local/lib/python3.10/dist-packages (from jupyter-dash) (1.8.0)\n",
            "Requirement already satisfied: nest-asyncio in /usr/local/lib/python3.10/dist-packages (from jupyter-dash) (1.5.8)\n",
            "Requirement already satisfied: Werkzeug<3.1 in /usr/local/lib/python3.10/dist-packages (from dash->jupyter-dash) (3.0.1)\n",
            "Requirement already satisfied: plotly>=5.0.0 in /usr/local/lib/python3.10/dist-packages (from dash->jupyter-dash) (5.18.0)\n",
            "Requirement already satisfied: dash-html-components==2.0.0 in /usr/local/lib/python3.10/dist-packages (from dash->jupyter-dash) (2.0.0)\n",
            "Requirement already satisfied: dash-core-components==2.0.0 in /usr/local/lib/python3.10/dist-packages (from dash->jupyter-dash) (2.0.0)\n",
            "Requirement already satisfied: dash-table==5.0.0 in /usr/local/lib/python3.10/dist-packages (from dash->jupyter-dash) (5.0.0)\n",
            "Requirement already satisfied: typing-extensions>=4.1.1 in /usr/local/lib/python3.10/dist-packages (from dash->jupyter-dash) (4.5.0)\n",
            "Requirement already satisfied: setuptools in /usr/local/lib/python3.10/dist-packages (from dash->jupyter-dash) (67.7.2)\n",
            "Requirement already satisfied: importlib-metadata in /usr/local/lib/python3.10/dist-packages (from dash->jupyter-dash) (6.8.0)\n",
            "Requirement already satisfied: Jinja2>=3.0 in /usr/local/lib/python3.10/dist-packages (from flask->jupyter-dash) (3.1.2)\n",
            "Requirement already satisfied: itsdangerous>=2.0 in /usr/local/lib/python3.10/dist-packages (from flask->jupyter-dash) (2.1.2)\n",
            "Requirement already satisfied: click>=8.0 in /usr/local/lib/python3.10/dist-packages (from flask->jupyter-dash) (8.1.7)\n",
            "Requirement already satisfied: ipython-genutils in /usr/local/lib/python3.10/dist-packages (from ipykernel->jupyter-dash) (0.2.0)\n",
            "Requirement already satisfied: traitlets>=4.1.0 in /usr/local/lib/python3.10/dist-packages (from ipykernel->jupyter-dash) (5.7.1)\n",
            "Requirement already satisfied: jupyter-client in /usr/local/lib/python3.10/dist-packages (from ipykernel->jupyter-dash) (6.1.12)\n",
            "Requirement already satisfied: tornado>=4.2 in /usr/local/lib/python3.10/dist-packages (from ipykernel->jupyter-dash) (6.3.2)\n",
            "Requirement already satisfied: jedi>=0.16 in /usr/local/lib/python3.10/dist-packages (from ipython->jupyter-dash) (0.19.1)\n",
            "Requirement already satisfied: decorator in /usr/local/lib/python3.10/dist-packages (from ipython->jupyter-dash) (4.4.2)\n",
            "Requirement already satisfied: pickleshare in /usr/local/lib/python3.10/dist-packages (from ipython->jupyter-dash) (0.7.5)\n",
            "Requirement already satisfied: prompt-toolkit!=3.0.0,!=3.0.1,<3.1.0,>=2.0.0 in /usr/local/lib/python3.10/dist-packages (from ipython->jupyter-dash) (3.0.41)\n",
            "Requirement already satisfied: pygments in /usr/local/lib/python3.10/dist-packages (from ipython->jupyter-dash) (2.16.1)\n",
            "Requirement already satisfied: backcall in /usr/local/lib/python3.10/dist-packages (from ipython->jupyter-dash) (0.2.0)\n",
            "Requirement already satisfied: matplotlib-inline in /usr/local/lib/python3.10/dist-packages (from ipython->jupyter-dash) (0.1.6)\n",
            "Requirement already satisfied: pexpect>4.3 in /usr/local/lib/python3.10/dist-packages (from ipython->jupyter-dash) (4.8.0)\n",
            "Requirement already satisfied: charset-normalizer<4,>=2 in /usr/local/lib/python3.10/dist-packages (from requests->jupyter-dash) (3.3.2)\n",
            "Requirement already satisfied: idna<4,>=2.5 in /usr/local/lib/python3.10/dist-packages (from requests->jupyter-dash) (3.4)\n",
            "Requirement already satisfied: urllib3<3,>=1.21.1 in /usr/local/lib/python3.10/dist-packages (from requests->jupyter-dash) (2.0.7)\n",
            "Requirement already satisfied: certifi>=2017.4.17 in /usr/local/lib/python3.10/dist-packages (from requests->jupyter-dash) (2023.7.22)\n",
            "Requirement already satisfied: six>=1.7.0 in /usr/local/lib/python3.10/dist-packages (from retrying->jupyter-dash) (1.16.0)\n",
            "Requirement already satisfied: parso<0.9.0,>=0.8.3 in /usr/local/lib/python3.10/dist-packages (from jedi>=0.16->ipython->jupyter-dash) (0.8.3)\n",
            "Requirement already satisfied: MarkupSafe>=2.0 in /usr/local/lib/python3.10/dist-packages (from Jinja2>=3.0->flask->jupyter-dash) (2.1.3)\n",
            "Requirement already satisfied: ptyprocess>=0.5 in /usr/local/lib/python3.10/dist-packages (from pexpect>4.3->ipython->jupyter-dash) (0.7.0)\n",
            "Requirement already satisfied: tenacity>=6.2.0 in /usr/local/lib/python3.10/dist-packages (from plotly>=5.0.0->dash->jupyter-dash) (8.2.3)\n",
            "Requirement already satisfied: packaging in /usr/local/lib/python3.10/dist-packages (from plotly>=5.0.0->dash->jupyter-dash) (23.2)\n",
            "Requirement already satisfied: wcwidth in /usr/local/lib/python3.10/dist-packages (from prompt-toolkit!=3.0.0,!=3.0.1,<3.1.0,>=2.0.0->ipython->jupyter-dash) (0.2.10)\n",
            "Requirement already satisfied: zipp>=0.5 in /usr/local/lib/python3.10/dist-packages (from importlib-metadata->dash->jupyter-dash) (3.17.0)\n",
            "Requirement already satisfied: jupyter-core>=4.6.0 in /usr/local/lib/python3.10/dist-packages (from jupyter-client->ipykernel->jupyter-dash) (5.5.0)\n",
            "Requirement already satisfied: pyzmq>=13 in /usr/local/lib/python3.10/dist-packages (from jupyter-client->ipykernel->jupyter-dash) (23.2.1)\n",
            "Requirement already satisfied: python-dateutil>=2.1 in /usr/local/lib/python3.10/dist-packages (from jupyter-client->ipykernel->jupyter-dash) (2.8.2)\n",
            "Requirement already satisfied: platformdirs>=2.5 in /usr/local/lib/python3.10/dist-packages (from jupyter-core>=4.6.0->jupyter-client->ipykernel->jupyter-dash) (4.0.0)\n"
          ]
        }
      ],
      "source": [
        "!pip install --upgrade plotly\n",
        "!pip install jupyter-dash"
      ]
    },
    {
      "cell_type": "code",
      "source": [
        "# Importar las bibliotecas necesarias\n",
        "import pandas as pd\n",
        "from jupyter_dash import JupyterDash\n",
        "from dash import dcc, html\n",
        "from dash.dependencies import Input, Output\n",
        "import plotly.graph_objects as go"
      ],
      "metadata": {
        "id": "46zTPlx6IdlZ"
      },
      "execution_count": 2,
      "outputs": []
    },
    {
      "cell_type": "code",
      "source": [
        "# Cargar los datos desde GitHub\n",
        "costs_url = 'https://raw.githubusercontent.com/datrends/dash-plotly/main/costs_2022.csv'\n",
        "revenue_url = 'https://raw.githubusercontent.com/datrends/dash-plotly/main/revenue_2022.csv'\n",
        "costs_df = pd.read_csv(costs_url)\n",
        "revenue_df = pd.read_csv(revenue_url)\n",
        "\n",
        "# Referencia para ordenamiento de meses\n",
        "month_order_mapping = {\"Jan\": 1, \"Feb\": 2, \"Mar\": 3, \"Apr\": 4, \"May\": 5, \"Jun\": 6, \"Jul\": 7, \"Aug\": 8, \"Sep\": 9, \"Oct\": 10, \"Nov\": 11, \"Dec\": 12}\n",
        "\n",
        "# Limpiar y transformar los datos\n",
        "def clean_and_transform_data(df, clean_cols, melt_tag):\n",
        "    # Eliminar las columnas\n",
        "    df = df.drop(columns=clean_cols, errors='ignore')\n",
        "\n",
        "    # Limpiar caracteres especiales y convertir a número decimal\n",
        "    df.replace('[\\$,]', '', regex=True, inplace=True)\n",
        "    df = df.apply(pd.to_numeric, errors='ignore')\n",
        "\n",
        "    # Anular la dinamización de las columnas de meses, al formato: llave-valor\n",
        "    df = df.melt(id_vars=['Line Of Business'], var_name='Month', value_name=melt_tag)\n",
        "    #revenue_df_transposed = revenue_df.melt(id_vars=['Line Of Business'], var_name='Month', value_name='Revenue')\n",
        "\n",
        "    return df\n",
        "\n",
        "clean_cols = ['N', 'Expense Item', 'Total']\n",
        "costs_df = clean_and_transform_data(costs_df, clean_cols, 'Cost')\n",
        "\n",
        "clean_cols = ['N', 'Client Name', 'Total']\n",
        "revenue_df = clean_and_transform_data(revenue_df, clean_cols, 'Revenue')\n",
        "\n",
        "# Obtener valores únicos de \"Line Of Business\" de ambas fuentes\n",
        "line_of_business_options = list(set(costs_df['Line Of Business'].unique()) | set(revenue_df['Line Of Business'].unique()))\n",
        "\n",
        "# Crear el dashboard\n",
        "app = JupyterDash(__name__)\n",
        "\n",
        "# Maquetación de la página web\n",
        "app.layout = html.Div([\n",
        "    # Título de la web\n",
        "    html.H1(\"Comparación de Ingresos y Costos\"),\n",
        "\n",
        "    # Filtro de selección múltiple\n",
        "    dcc.Dropdown(\n",
        "        id='line-of-business-selector',\n",
        "        options=[{'label': i, 'value': i} for i in line_of_business_options],\n",
        "        value=line_of_business_options,\n",
        "        multi=True,\n",
        "        style={'width': '50%'}\n",
        "    ),\n",
        "\n",
        "    # Gráfica de comparación ingresos vs. costos\n",
        "    dcc.Graph(id='revenue-costs-plot')\n",
        "])\n",
        "\n",
        "# Callback para actualizar la gráfica\n",
        "@app.callback(\n",
        "    Output('revenue-costs-plot', 'figure'),\n",
        "    [Input('line-of-business-selector', 'value')]\n",
        ")\n",
        "def update_plot(selected_line_of_business):\n",
        "    # Filtrar los datos según la selección de líneas de negocio\n",
        "    costs_filtered = costs_df[costs_df['Line Of Business'].isin(selected_line_of_business)]\n",
        "    revenue_filtered = revenue_df[revenue_df['Line Of Business'].isin(selected_line_of_business)]\n",
        "\n",
        "    # Agrupar por mes, realizar la suma agregada de los valores y el ordenamiento por mes\n",
        "    costs_grouped = costs_filtered.groupby(['Month']).sum().reset_index()\n",
        "    costs_grouped[\"order\"] = costs_grouped[\"Month\"].apply(lambda month: month_order_mapping[month])\n",
        "    costs_grouped = costs_grouped.sort_values(by=\"order\")\n",
        "    revenue_grouped = revenue_filtered.groupby(['Month']).sum().reset_index()\n",
        "    revenue_grouped[\"order\"] = revenue_grouped[\"Month\"].apply(lambda month: month_order_mapping[month])\n",
        "    revenue_grouped = revenue_grouped.sort_values(by=\"order\")\n",
        "\n",
        "    # Obtener los valores de costos, ingresos y meses\n",
        "    months_of_year = costs_grouped[\"Month\"].values\n",
        "    total_cost = costs_grouped[\"Cost\"].values\n",
        "    total_revenue = revenue_grouped[\"Revenue\"].values\n",
        "\n",
        "    # Gráfico de barras: ingresos\n",
        "    fig = go.Figure(\n",
        "        data=go.Bar(\n",
        "            x=months_of_year,\n",
        "            y=total_revenue,\n",
        "            name=\"Total revenue\",\n",
        "            marker=dict(color=\"paleturquoise\"),\n",
        "        )\n",
        "    )\n",
        "\n",
        "    # Gráfico de línea: costos\n",
        "    fig.add_trace(\n",
        "        go.Scatter(\n",
        "            x=months_of_year,\n",
        "            y=total_cost,\n",
        "            yaxis=\"y2\",\n",
        "            name=\"Total cost\",\n",
        "            marker=dict(color=\"crimson\"),\n",
        "        )\n",
        "    )\n",
        "\n",
        "    # Leyenda\n",
        "    fig.update_layout(\n",
        "        legend=dict(orientation=\"h\"),\n",
        "        yaxis=dict(\n",
        "            title=dict(text=\"Total revenue\"),\n",
        "            side=\"left\",\n",
        "            #range=[0, 100000],\n",
        "        ),\n",
        "        yaxis2=dict(\n",
        "            title=dict(text=\"Total cost\"),\n",
        "            side=\"right\",\n",
        "            #range=[0, 10],\n",
        "            overlaying=\"y\",\n",
        "            tickmode=\"sync\",\n",
        "        ),\n",
        "    )\n",
        "\n",
        "    return fig"
      ],
      "metadata": {
        "colab": {
          "base_uri": "https://localhost:8080/"
        },
        "id": "g94_aDtoVbd7",
        "outputId": "0ef9d0e3-2eb1-44f2-bb70-2d59cab500d8"
      },
      "execution_count": 3,
      "outputs": [
        {
          "output_type": "stream",
          "name": "stderr",
          "text": [
            "/usr/local/lib/python3.10/dist-packages/dash/dash.py:538: UserWarning:\n",
            "\n",
            "JupyterDash is deprecated, use Dash instead.\n",
            "See https://dash.plotly.com/dash-in-jupyter for more details.\n",
            "\n"
          ]
        }
      ]
    },
    {
      "cell_type": "code",
      "source": [
        "# Ejecutar la aplicación\n",
        "if __name__ == '__main__':\n",
        "  app.run_server(mode='inline')"
      ],
      "metadata": {
        "colab": {
          "base_uri": "https://localhost:8080/",
          "height": 1000
        },
        "id": "YsKThDVhItNC",
        "outputId": "5b9e1323-9f9d-4110-d23a-0c1ef72d531a"
      },
      "execution_count": 4,
      "outputs": [
        {
          "output_type": "display_data",
          "data": {
            "text/plain": [
              "<IPython.core.display.Javascript object>"
            ],
            "application/javascript": [
              "(async (port, path, width, height, cache, element) => {\n",
              "    if (!google.colab.kernel.accessAllowed && !cache) {\n",
              "      return;\n",
              "    }\n",
              "    element.appendChild(document.createTextNode(''));\n",
              "    const url = await google.colab.kernel.proxyPort(port, {cache});\n",
              "    const iframe = document.createElement('iframe');\n",
              "    iframe.src = new URL(path, url).toString();\n",
              "    iframe.height = height;\n",
              "    iframe.width = width;\n",
              "    iframe.style.border = 0;\n",
              "    iframe.allow = [\n",
              "        'accelerometer',\n",
              "        'autoplay',\n",
              "        'camera',\n",
              "        'clipboard-read',\n",
              "        'clipboard-write',\n",
              "        'gyroscope',\n",
              "        'magnetometer',\n",
              "        'microphone',\n",
              "        'serial',\n",
              "        'usb',\n",
              "        'xr-spatial-tracking',\n",
              "    ].join('; ');\n",
              "    element.appendChild(iframe);\n",
              "  })(8050, \"/\", \"100%\", 650, false, window.element)"
            ]
          },
          "metadata": {}
        },
        {
          "output_type": "display_data",
          "data": {
            "text/plain": [
              "<IPython.core.display.Javascript object>"
            ],
            "application/javascript": [
              "(async (port, path, width, height, cache, element) => {\n",
              "    if (!google.colab.kernel.accessAllowed && !cache) {\n",
              "      return;\n",
              "    }\n",
              "    element.appendChild(document.createTextNode(''));\n",
              "    const url = await google.colab.kernel.proxyPort(port, {cache});\n",
              "    const iframe = document.createElement('iframe');\n",
              "    iframe.src = new URL(path, url).toString();\n",
              "    iframe.height = height;\n",
              "    iframe.width = width;\n",
              "    iframe.style.border = 0;\n",
              "    iframe.allow = [\n",
              "        'accelerometer',\n",
              "        'autoplay',\n",
              "        'camera',\n",
              "        'clipboard-read',\n",
              "        'clipboard-write',\n",
              "        'gyroscope',\n",
              "        'magnetometer',\n",
              "        'microphone',\n",
              "        'serial',\n",
              "        'usb',\n",
              "        'xr-spatial-tracking',\n",
              "    ].join('; ');\n",
              "    element.appendChild(iframe);\n",
              "  })(8050, \"/\", \"100%\", 650, false, window.element)"
            ]
          },
          "metadata": {}
        }
      ]
    }
  ]
}